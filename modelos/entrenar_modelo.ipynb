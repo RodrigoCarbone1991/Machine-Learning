{
 "cells": [
  {
   "cell_type": "markdown",
   "id": "5f990cb5",
   "metadata": {},
   "source": [
    "**Librerias y configuracion**"
   ]
  }
 ],
 "metadata": {
  "language_info": {
   "name": "python"
  }
 },
 "nbformat": 4,
 "nbformat_minor": 5
}
